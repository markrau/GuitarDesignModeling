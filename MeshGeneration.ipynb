{
 "cells": [
  {
   "cell_type": "code",
   "execution_count": 1,
   "id": "51cd697e-5d72-4f0e-8079-111c90d53433",
   "metadata": {},
   "outputs": [],
   "source": [
    "import os\n",
    "import gmsh\n",
    "import pygmsh\n",
    "import meshio\n",
    "import numpy as np\n",
    "\n",
    "import matplotlib.pyplot as plt\n",
    "from scipy import interpolate"
   ]
  },
  {
   "cell_type": "markdown",
   "id": "e27ffe20-63b2-4609-bf01-9abdf1e56d2b",
   "metadata": {},
   "source": [
    "## Guitar Mesh Setup"
   ]
  },
  {
   "cell_type": "code",
   "execution_count": 2,
   "id": "9d7f6804-872e-4c90-bd27-1e43d74cbdc7",
   "metadata": {},
   "outputs": [],
   "source": [
    "# Guitar Parameters\n",
    "length = 0.48;\n",
    "lbWidth = 0.365;\n",
    "ubWidth = 0.28;\n",
    "indentWidth = 0.23;\n",
    "lbLoc = 0.13;\n",
    "indentLoc = 0.31;\n",
    "ubLoc = 0.41;\n",
    "topThickness = 0.003;\n",
    "backThickness = 0.003;\n",
    "depth = 0.1;\n",
    "sideThickness = 0.003;\n",
    "soundholeDiam = 0.08;\n",
    "soundholeHeight = 0.3;\n",
    "neckBlockWidth = 0.08;\n",
    "endBlockWidth = 0.1;"
   ]
  },
  {
   "cell_type": "code",
   "execution_count": 3,
   "id": "6b7adeb4-99ad-4b67-8f9e-15c8e909996b",
   "metadata": {},
   "outputs": [],
   "source": [
    "# Outline of points around the guitar top\n",
    "x = np.array([0, -endBlockWidth, -lbWidth/2, -indentWidth/2, -ubWidth/2, -neckBlockWidth, 0, neckBlockWidth, ubWidth/2, indentWidth/2, lbWidth/2, endBlockWidth])\n",
    "y = np.array([0, 0, lbLoc, indentLoc, ubLoc, length, length, length, ubLoc, indentLoc, lbLoc, 0])\n",
    "\n",
    "# Outline of inner points for the sides\n",
    "xSide = np.array([0, -endBlockWidth, -lbWidth/2+sideThickness, -indentWidth/2+sideThickness, -ubWidth/2+sideThickness, -neckBlockWidth, 0, neckBlockWidth, ubWidth/2-sideThickness, indentWidth/2-sideThickness, lbWidth/2-sideThickness, endBlockWidth])\n",
    "ySide = np.array([sideThickness, sideThickness, lbLoc, indentLoc, ubLoc, length-sideThickness, length-sideThickness, length-sideThickness, ubLoc, indentLoc, lbLoc, sideThickness])\n",
    "\n",
    "# append the starting x,y coordinates\n",
    "x = np.r_[x, x[0]]\n",
    "y = np.r_[y, y[0]]\n",
    "\n",
    "xSide = np.r_[xSide, xSide[0]]\n",
    "ySide = np.r_[ySide, ySide[0]]"
   ]
  },
  {
   "cell_type": "code",
   "execution_count": 4,
   "id": "aa4eb619-2baf-4d69-9eb2-556df768c621",
   "metadata": {},
   "outputs": [],
   "source": [
    "# fit splines to x=f(u) and y=g(u), treating both as periodic. also note that s=0\n",
    "# is needed in order to force the spline fit to pass through all the input points.\n",
    "tck, u = interpolate.splprep([x, y],task = 0, k = 5, s=0.0008, per=1)\n",
    "tckSide, uSide = interpolate.splprep([xSide, ySide],task = 0, k = 5, s=0.0008, per=1)\n",
    "\n",
    "# evaluate the spline fits for 40 evenly spaced distance values\n",
    "N = 40;\n",
    "xi, yi = interpolate.splev(np.linspace(0, 1, N), tck)\n",
    "xiSide, yiSide = interpolate.splev(np.linspace(0, 1, N), tckSide)"
   ]
  },
  {
   "cell_type": "code",
   "execution_count": 5,
   "id": "831c5870-e82f-4deb-9044-5de351794b94",
   "metadata": {},
   "outputs": [],
   "source": [
    "# Makes lists of the points for geometry creation\n",
    "pointList = []\n",
    "pointListSideInner = []\n",
    "pointListSideOuter = []\n",
    "\n",
    "for i in range(1,N):\n",
    "    pointList.append([xi[i],yi[i],0.0]) \n",
    "    pointListSideInner.append([xiSide[i],yiSide[i],0])\n",
    "    pointListSideOuter.append([xi[i],yi[i],0])"
   ]
  },
  {
   "cell_type": "markdown",
   "id": "4254f68d-1c00-4e49-a06f-7c6db2026b98",
   "metadata": {},
   "source": [
    "## Guitar Mesh Construction"
   ]
  },
  {
   "cell_type": "code",
   "execution_count": 10,
   "id": "ba65975e-aa46-4ebf-b643-8dbbe365df0a",
   "metadata": {},
   "outputs": [],
   "source": [
    "MeshGeometryFolder = os.path.join(\"MeshGeometry\")"
   ]
  },
  {
   "cell_type": "code",
   "execution_count": 13,
   "id": "8e869560-e919-4899-9c13-c7d34ed3a64e",
   "metadata": {},
   "outputs": [],
   "source": [
    "# Create the top mesh\n",
    "with pygmsh.occ.Geometry() as geom:\n",
    "\n",
    "    geom.characteristic_length_max = 0.02\n",
    "\n",
    "    top2D = geom.add_polygon(pointList)\n",
    "    \n",
    "    soundhole = geom.add_disk([0.0, soundholeHeight], soundholeDiam/2)\n",
    "    \n",
    "    topHole2D = geom.boolean_difference(top2D, soundhole)\n",
    "    \n",
    "    top3D = geom.extrude(top2D, [0.0, 0.0, topThickness], num_layers=2)\n",
    "    \n",
    "    top3D = [top3D[0], top3D[1]] +  top3D[2]\n",
    "        \n",
    "    top_mesh = geom.generate_mesh()"
   ]
  },
  {
   "cell_type": "code",
   "execution_count": 7,
   "id": "991fbded-fed6-49a3-bcf3-4dbb8b1f59f2",
   "metadata": {},
   "outputs": [],
   "source": [
    "# Create the side mesh\n",
    "with pygmsh.occ.Geometry() as geom:\n",
    "\n",
    "    \n",
    "    geom.characteristic_length_max = 0.02\n",
    "\n",
    "    sideOuter2D = geom.add_polygon(pointListSideOuter)\n",
    "    sideInner2D = geom.add_polygon(pointListSideInner)\n",
    "    \n",
    "    side2D = geom.boolean_difference(sideOuter2D, sideInner2D)\n",
    "    \n",
    "    side3D = geom.extrude(side2D, [0.0, 0.0, depth], num_layers=10)\n",
    "    \n",
    "    side_mesh = geom.generate_mesh()"
   ]
  },
  {
   "cell_type": "code",
   "execution_count": 8,
   "id": "849f948c-e6d3-43b4-9ea5-2f5d89734864",
   "metadata": {},
   "outputs": [],
   "source": [
    "# Create the back mesh\n",
    "with pygmsh.occ.Geometry() as geom:\n",
    "\n",
    "    geom.characteristic_length_max = 0.02\n",
    "\n",
    "    back2D = geom.add_polygon(pointList)\n",
    "    geom.translate(back2D, [0.0,0.0,depth])\n",
    "    \n",
    "    back3D = geom.extrude(back2D, [0.0, 0.0, topThickness], num_layers=2)\n",
    "    \n",
    "    back_mesh = geom.generate_mesh()"
   ]
  },
  {
   "cell_type": "markdown",
   "id": "55eeb089-0432-4f61-845a-22824652e2f6",
   "metadata": {},
   "source": [
    "## Save Mesh to XDMF"
   ]
  },
  {
   "cell_type": "code",
   "execution_count": 23,
   "id": "d4e3efbe-53e9-4db0-8475-1835b6d603e7",
   "metadata": {},
   "outputs": [
    {
     "name": "stdout",
     "output_type": "stream",
     "text": [
      "\n"
     ]
    }
   ],
   "source": [
    "# NEED TO FIX\n",
    "\n",
    "# top_mesh_from_msh = meshio.read(os.path.join(MeshGeometryFolder, \"top_mesh.msh\"))\n",
    "# tetra_top_mesh = create_mesh(top_mesh_from_msh, \"tetra\")\n",
    "# meshio.write(\"top_mesh.xdmf\", tetra_top_mesh)\n",
    "\n",
    "# # Write the mesh\n",
    "# meshio.write(os.path.join(MeshGeometryFolder,  \"top_mesh.xml\"), top_mesh)\n",
    "# meshio.write(os.path.join(MeshGeometryFolder,  \"side_mesh.xml\"), side_mesh)\n",
    "# meshio.write(os.path.join(MeshGeometryFolder,  \"back_mesh.xml\"), back_mesh)\n",
    "\n",
    "# Gives Warnings!\n",
    "# Warning: DOLFIN XML is a legacy format. Consider using XDMF instead.\n",
    "# Warning: DOLFIN XML can only handle one cell type at a time. Using tetra, discarding vertex, triangle, line.\n",
    "\n",
    "# top_mesh.write(os.path.join(MeshGeometryFolder,  \"top_mesh.vtk\"))\n",
    "# side_mesh.write(os.path.join(MeshGeometryFolder, \"side_mesh.vtk\"))\n",
    "# back_mesh.write(os.path.join(MeshGeometryFolder, \"back_mesh.vtk\"))"
   ]
  },
  {
   "cell_type": "code",
   "execution_count": null,
   "id": "82af8376-ce25-4c22-9f77-343163c91160",
   "metadata": {},
   "outputs": [],
   "source": [
    "# Documentation\n",
    "# UFL: https://fenics.readthedocs.io/projects/ufl/en/latest/index.html\n",
    "# DOLFINx: https://docs.fenicsproject.org/dolfinx/main/python/index.html"
   ]
  }
 ],
 "metadata": {
  "kernelspec": {
   "display_name": "Python 3 (ipykernel)",
   "language": "python",
   "name": "python3"
  },
  "language_info": {
   "codemirror_mode": {
    "name": "ipython",
    "version": 3
   },
   "file_extension": ".py",
   "mimetype": "text/x-python",
   "name": "python",
   "nbconvert_exporter": "python",
   "pygments_lexer": "ipython3",
   "version": "3.9.7"
  }
 },
 "nbformat": 4,
 "nbformat_minor": 5
}
